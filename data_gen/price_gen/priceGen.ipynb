{
 "cells": [
  {
   "cell_type": "code",
   "execution_count": 2,
   "outputs": [
    {
     "data": {
      "text/plain": "    zipcode  hour_of_day  price\n0     10001            0  0.126\n1     10001            1  0.126\n2     10001            2  0.126\n3     10001            3  0.126\n4     10001            4  0.126\n..      ...          ...    ...\n715   11249           19  0.210\n716   11249           20  0.210\n717   11249           21  0.210\n718   11249           22  0.210\n719   11249           23  0.210\n\n[720 rows x 3 columns]",
      "text/html": "<div>\n<style scoped>\n    .dataframe tbody tr th:only-of-type {\n        vertical-align: middle;\n    }\n\n    .dataframe tbody tr th {\n        vertical-align: top;\n    }\n\n    .dataframe thead th {\n        text-align: right;\n    }\n</style>\n<table border=\"1\" class=\"dataframe\">\n  <thead>\n    <tr style=\"text-align: right;\">\n      <th></th>\n      <th>zipcode</th>\n      <th>hour_of_day</th>\n      <th>price</th>\n    </tr>\n  </thead>\n  <tbody>\n    <tr>\n      <th>0</th>\n      <td>10001</td>\n      <td>0</td>\n      <td>0.126</td>\n    </tr>\n    <tr>\n      <th>1</th>\n      <td>10001</td>\n      <td>1</td>\n      <td>0.126</td>\n    </tr>\n    <tr>\n      <th>2</th>\n      <td>10001</td>\n      <td>2</td>\n      <td>0.126</td>\n    </tr>\n    <tr>\n      <th>3</th>\n      <td>10001</td>\n      <td>3</td>\n      <td>0.126</td>\n    </tr>\n    <tr>\n      <th>4</th>\n      <td>10001</td>\n      <td>4</td>\n      <td>0.126</td>\n    </tr>\n    <tr>\n      <th>...</th>\n      <td>...</td>\n      <td>...</td>\n      <td>...</td>\n    </tr>\n    <tr>\n      <th>715</th>\n      <td>11249</td>\n      <td>19</td>\n      <td>0.210</td>\n    </tr>\n    <tr>\n      <th>716</th>\n      <td>11249</td>\n      <td>20</td>\n      <td>0.210</td>\n    </tr>\n    <tr>\n      <th>717</th>\n      <td>11249</td>\n      <td>21</td>\n      <td>0.210</td>\n    </tr>\n    <tr>\n      <th>718</th>\n      <td>11249</td>\n      <td>22</td>\n      <td>0.210</td>\n    </tr>\n    <tr>\n      <th>719</th>\n      <td>11249</td>\n      <td>23</td>\n      <td>0.210</td>\n    </tr>\n  </tbody>\n</table>\n<p>720 rows × 3 columns</p>\n</div>"
     },
     "execution_count": 2,
     "metadata": {},
     "output_type": "execute_result"
    }
   ],
   "source": [
    "import pandas as pd\n",
    "import numpy as np\n",
    "\n",
    "# 示例数据生成\n",
    "nyc_zip_codes = [f'100{str(i).zfill(2)}' for i in range(1, 18)]  # 10001 - 10017\n",
    "jc_zip_codes = ['07097', '07302', '07303', '07304', '07305', '07306', '07307', '07308', '07310', '07311', '07395', '07399']\n",
    "bk_zip_codes = ['11249']\n",
    "hours = list(range(24))\n",
    "\n",
    "# 创建 New York City 和 Jersey City 的价格\n",
    "nyc_price_segments = [round(np.random.uniform(0.10, 0.15), 3),  # 0-7小时\n",
    "                      round(np.random.uniform(0.15, 0.20), 3),  # 8-15小时\n",
    "                      round(np.random.uniform(0.20, 0.25), 3) ]  #\n",
    "nyc_prices = np.array([nyc_price_segments[int(i / 8)] for i in range(24)])\n",
    "jc_discount = round(np.random.uniform(0.01, 0.03), 3)\n",
    "bk_discount = round(np.random.uniform(0.01, 0.03), 3)\n",
    "jc_prices = np.round(nyc_prices - jc_discount, 3)\n",
    "bk_prices = np.round(nyc_prices - bk_discount, 3)\n",
    "# 创建数据框\n",
    "energy_prices_nyc = pd.DataFrame({\n",
    "    'zipcode': np.repeat(nyc_zip_codes, 24),\n",
    "    'hour_of_day': hours * 17,\n",
    "    'price': np.tile(nyc_prices, 17)\n",
    "})\n",
    "\n",
    "energy_prices_jc = pd.DataFrame({\n",
    "    'zipcode': np.repeat(jc_zip_codes, 24),\n",
    "    'hour_of_day': hours * len(jc_zip_codes),\n",
    "    'price': np.tile(jc_prices, len(jc_zip_codes))\n",
    "})\n",
    "\n",
    "energy_prices_bk = pd.DataFrame({\n",
    "    'zipcode': np.repeat(bk_zip_codes, 24),\n",
    "    'hour_of_day': hours * len(bk_zip_codes),\n",
    "    'price': np.tile(bk_prices, len(bk_zip_codes))\n",
    "})\n",
    "\n",
    "# 合并数据框\n",
    "energy_prices_full = pd.concat([energy_prices_nyc, energy_prices_jc, energy_prices_bk], ignore_index=True)\n",
    "\n",
    "# 现在，energy_prices_full 包含完整的数据集\n",
    "energy_prices_full"
   ],
   "metadata": {
    "collapsed": false,
    "ExecuteTime": {
     "start_time": "2023-11-30T21:55:23.518499Z",
     "end_time": "2023-11-30T21:55:23.541675Z"
    }
   }
  },
  {
   "cell_type": "code",
   "execution_count": 3,
   "outputs": [
    {
     "name": "stdout",
     "output_type": "stream",
     "text": [
      "INSERT INTO energy_price(zipcode, hour_of_day, price) VALUES ('10001', 0, 0.126);\n",
      "INSERT INTO energy_price(zipcode, hour_of_day, price) VALUES ('10001', 1, 0.126);\n",
      "INSERT INTO energy_price(zipcode, hour_of_day, price) VALUES ('10001', 2, 0.126);\n",
      "INSERT INTO energy_price(zipcode, hour_of_day, price) VALUES ('10001', 3, 0.126);\n",
      "INSERT INTO energy_price(zipcode, hour_of_day, price) VALUES ('10001', 4, 0.126);\n",
      "INSERT INTO energy_price(zipcode, hour_of_day, price) VALUES ('10001', 5, 0.126);\n",
      "INSERT INTO energy_price(zipcode, hour_of_day, price) VALUES ('10001', 6, 0.126);\n",
      "INSERT INTO energy_price(zipcode, hour_of_day, price) VALUES ('10001', 7, 0.126);\n",
      "INSERT INTO energy_price(zipcode, hour_of_day, price) VALUES ('10001', 8, 0.169);\n",
      "INSERT INTO energy_price(zipcode, hour_of_day, price) VALUES ('10001', 9, 0.169);\n"
     ]
    }
   ],
   "source": [
    "def generate_insert_statements(dataframe):\n",
    "    \"\"\"\n",
    "    Generate SQL INSERT statements for each row in the provided DataFrame.\n",
    "\n",
    "    Args:\n",
    "    dataframe (pd.DataFrame): DataFrame containing the data to insert into the database.\n",
    "\n",
    "    Returns:\n",
    "    list: A list of SQL INSERT statements as strings.\n",
    "    \"\"\"\n",
    "    template = \"INSERT INTO energy_price(zipcode, hour_of_day, price) VALUES ('{zipcode}', {hour_of_day}, {price});\"\n",
    "    statements = []\n",
    "\n",
    "    for _, row in dataframe.iterrows():\n",
    "        statement = template.format(zipcode=row['zipcode'], hour_of_day=row['hour_of_day'], price=row['price'])\n",
    "        statements.append(statement)\n",
    "\n",
    "    return statements\n",
    "\n",
    "# 使用之前创建的完整数据集生成插入语句\n",
    "insert_statements = generate_insert_statements(energy_prices_full)\n",
    "\n",
    "# 打印前10条插入语句作为示例\n",
    "for statement in insert_statements[:10]:\n",
    "    print(statement)\n",
    "\n",
    "with open('price_gen.sql', 'w') as file:\n",
    "     for statement in insert_statements:\n",
    "         file.write(statement + '\\n')"
   ],
   "metadata": {
    "collapsed": false,
    "ExecuteTime": {
     "start_time": "2023-11-30T21:55:29.409746Z",
     "end_time": "2023-11-30T21:55:29.415315Z"
    }
   }
  },
  {
   "cell_type": "code",
   "execution_count": null,
   "outputs": [],
   "source": [],
   "metadata": {
    "collapsed": false
   }
  }
 ],
 "metadata": {
  "kernelspec": {
   "display_name": "Python 3",
   "language": "python",
   "name": "python3"
  },
  "language_info": {
   "codemirror_mode": {
    "name": "ipython",
    "version": 2
   },
   "file_extension": ".py",
   "mimetype": "text/x-python",
   "name": "python",
   "nbconvert_exporter": "python",
   "pygments_lexer": "ipython2",
   "version": "2.7.6"
  }
 },
 "nbformat": 4,
 "nbformat_minor": 0
}
